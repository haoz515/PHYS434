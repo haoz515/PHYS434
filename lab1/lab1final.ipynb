{
 "cells": [
  {
   "cell_type": "code",
   "execution_count": null,
   "metadata": {},
   "outputs": [],
   "source": []
  },
  {
   "cell_type": "code",
   "execution_count": 5,
   "metadata": {},
   "outputs": [],
   "source": [
    "%matplotlib inline\n",
    "import matplotlib\n",
    "import matplotlib.pyplot as plt\n",
    "from scipy import stats\n",
    "import numpy as np\n",
    "import pandas as pd"
   ]
  },
  {
   "cell_type": "markdown",
   "metadata": {},
   "source": [
    "# A little statistics about normal distribution\n"
   ]
  },
  {
   "cell_type": "markdown",
   "metadata": {},
   "source": [
    "The part attached below is about the standard normal distribution. Standard normal distribution is a specific kind of normal distribution(Gaussian distribution) with mean 0 and standard deviation of 1. We can use z-score to measure how far a specfic data is away from the mean. For example, a z-socre of 1 means the data is 1 sigma(or 1 standard deviation) away from the mean. Notice that, the data can fall on both the left and right of the data set. As a rtesult, our z-score can be negative, which means the data falls on the left side of the mean. \n",
    "\n",
    "To find the probability of a data falls in a range, we do the integral over Probability Density Function(PDF).  For example, if we want to find the probability that the data falls between 1 and 2. We do the integral of PDF, from 1 to 2. Besides, when we do the integral from negative infinity to positive infinity, the result will be 1. \n",
    "P.S The cumulative density distribution provided in scipy library gives us the probablity from negative infinity to a number we specify. "
   ]
  },
  {
   "cell_type": "code",
   "execution_count": null,
   "metadata": {},
   "outputs": [],
   "source": [
    "fig, ax = plt.subplots()\n",
    "x= np.arange(-4,4,0.001)\n",
    "ax.set_title('N(0,$1^2$)')\n",
    "ax.set_xlabel('x')\n",
    "ax.set_ylabel('f(x)')\n",
    "ax.plot(x, stats.norm.pdf(x))\n",
    "ax.set_ylim(0,0.45)\n",
    "plt.show()"
   ]
  },
  {
   "cell_type": "markdown",
   "metadata": {},
   "source": [
    "This part we discuss about the probabilities of Xσ. The 1-tailed proability that the data lies away from 1 sigma is about 0.15866 from the z-score table. Notice, the 1-tailed probability means that we focus on 1-side. If we want to focus on the probablity that the data lies WITHIN 1 sigma of the mean. We need to use 1 - 2 * 0.15866. "
   ]
  },
  {
   "cell_type": "code",
   "execution_count": 8,
   "metadata": {},
   "outputs": [
    {
     "name": "stdout",
     "output_type": "stream",
     "text": [
      "-0.9999803859660787\n"
     ]
    }
   ],
   "source": [
    "prob = 0.15866\n",
    "print(stats.norm.ppf(prob))"
   ]
  },
  {
   "cell_type": "markdown",
   "metadata": {},
   "source": [
    "The result is close to -1, which means 1 sigma away(left) from the mean. "
   ]
  },
  {
   "cell_type": "markdown",
   "metadata": {},
   "source": [
    "For this part, I explore the Chi-sqaured distribution. I choose the parameter to be 5 and plot the data."
   ]
  },
  {
   "cell_type": "code",
   "execution_count": null,
   "metadata": {},
   "outputs": [],
   "source": []
  },
  {
   "cell_type": "code",
   "execution_count": 40,
   "metadata": {},
   "outputs": [
    {
     "data": {
      "image/png": "[encoded data removed]",
      "text/plain": [
       "<Figure size 432x288 with 1 Axes>"
      ]
     },
     "metadata": {
      "needs_background": "light"
     },
     "output_type": "display_data"
    }
   ],
   "source": [
    "chi2 = stats.chi2(5)\n",
    "samp = chi2.rvs(100000)\n",
    "plt.title(\"chi-sqaurred Distribution with parameter k=5\")\n",
    "plt.ylabel(\"PD\")\n",
    "x = np.linspace(0, 30, 1000)\n",
    "plt.hist(samp, 100, density=True)\n",
    "plt.xlim([0, 30])\n",
    "plt.ylim([0,0.2])\n",
    "plt.plot(x, chi2.pdf(x), linewidth = 5, alpha = 0.4, color = 'r');"
   ]
  },
  {
   "cell_type": "markdown",
   "metadata": {},
   "source": [
    "I randomly choose data over 5 to be considered as more-signal-liked. Data below 5 to be not-signal-like. Data that is exactly is also considered to be more-signal-like. It will not have any effect on the probablity because this distribution is continuous. As a result, for any specific data instead of a data range, thier probability is always 0 and have no effect on our result. \n",
    "Below is my development in finding out the Xσmeaning in distribution other than Gaussian. "
   ]
  },
  {
   "cell_type": "markdown",
   "metadata": {},
   "source": [
    "Since we want the probability that it is greater than 5. We use the total of the probability，in other words 1, and subtract the probability before 5. The probability is around 41%. So there is evidence that our data "
   ]
  },
  {
   "cell_type": "code",
   "execution_count": 45,
   "metadata": {},
   "outputs": [
    {
     "name": "stdout",
     "output_type": "stream",
     "text": [
      "0.415880186995508\n"
     ]
    }
   ],
   "source": [
    "before5 = 1 - chi2.cdf(5)\n",
    "print(before5)"
   ]
  },
  {
   "cell_type": "markdown",
   "metadata": {},
   "source": [
    "We put it into a standard normal distribution to find out the sigma. As a result, the probability that it is more-signal-like is 0.21σ.\n",
    "The answer is in negative because it measures from negative infinity of -0.21. It is the same "
   ]
  },
  {
   "cell_type": "code",
   "execution_count": 56,
   "metadata": {},
   "outputs": [
    {
     "name": "stdout",
     "output_type": "stream",
     "text": [
      "-0.2124443692748587\n"
     ]
    }
   ],
   "source": [
    "normBefore5 = stats.norm.ppf(before5)\n",
    "print(normBefore5)"
   ]
  },
  {
   "cell_type": "markdown",
   "metadata": {},
   "source": [
    "Try various hypothetical measurement values and see how the probabilities and 'sigmas' change. "
   ]
  },
  {
   "cell_type": "code",
   "execution_count": 59,
   "metadata": {},
   "outputs": [
    {
     "name": "stdout",
     "output_type": "stream",
     "text": [
      "-1.4378715888390514\n"
     ]
    }
   ],
   "source": [
    "before10 = 1 -chi2.cdf(10)\n",
    "normBefore10 = stats.norm.ppf(before10)\n",
    "print(normBefore10)"
   ]
  },
  {
   "cell_type": "markdown",
   "metadata": {},
   "source": [
    "The trend between this to give us the idea that when the data is away from the mean, their z-value also increase. This is correct, because σis a measure of data about how far it is away from the mean."
   ]
  },
  {
   "cell_type": "markdown",
   "metadata": {},
   "source": [
    "## NON-continuous distribution"
   ]
  },
  {
   "cell_type": "markdown",
   "metadata": {},
   "source": [
    "# Poisson Distribution"
   ]
  },
  {
   "cell_type": "markdown",
   "metadata": {},
   "source": [
    "I choose to explore the Poisson distribution for this part, with parameter mu = 15. (For Poisson distribution, mean and varience both equal to the parameter， which in this case, equal to 15)"
   ]
  },
  {
   "cell_type": "markdown",
   "metadata": {},
   "source": [
    "Poisson distribution is a discrete probability distribution that expresses the probability of a given number of events occurring in a fixed interval of time or space if these events occur with a known constant mean rate and independently of the time since the last event.The Poisson distribution can also be used for the number of events in other specified intervals such as distance, area or volume."
   ]
  },
  {
   "cell_type": "code",
   "execution_count": 95,
   "metadata": {},
   "outputs": [
    {
     "data": {
      "text/plain": [
       "<matplotlib.collections.LineCollection at 0x1a677158970>"
      ]
     },
     "execution_count": 95,
     "metadata": {},
     "output_type": "execute_result"
    },
    {
     "data": {
      "image/png": "[encoded data removed]",
      "text/plain": [
       "<Figure size 432x288 with 4 Axes>"
      ]
     },
     "metadata": {
      "needs_background": "light"
     },
     "output_type": "display_data"
    }
   ],
   "source": [
    "\n",
    "fig, ax = plt.subplots(4)\n",
    "ax[0].plot(x, stats.poisson.pmf(x, 5), 'bo', ms=2, label='poisson pmf')\n",
    "ax[0].vlines(x, 0, stats.poisson.pmf(x, 5))\n",
    "ax[1].plot(x, stats.poisson.pmf(x, 10), 'bo', ms=2, label='poisson pmf')\n",
    "ax[1].vlines(x, 0, stats.poisson.pmf(x, 10))\n",
    "ax[2].plot(x, stats.poisson.pmf(x, 15), 'bo', ms=2, label='poisson pmf')\n",
    "ax[2].vlines(x, 0, stats.poisson.pmf(x, 15))\n",
    "ax[3].plot(x, stats.poisson.pmf(x, 20), 'bo', ms=2, label='poisson pmf')\n",
    "ax[3].vlines(x, 0, stats.poisson.pmf(x, 20))\n"
   ]
  },
  {
   "cell_type": "markdown",
   "metadata": {},
   "source": [
    "For example, we have a diata say 11.2 come from the poisson distribution of 15. We find its sigma."
   ]
  },
  {
   "cell_type": "code",
   "execution_count": 96,
   "metadata": {},
   "outputs": [
    {
     "name": "stdout",
     "output_type": "stream",
     "text": [
      "Probability it came from background :  9.260390828424692 %\n",
      "Sigma certainty :  1.324889461906836\n"
     ]
    }
   ],
   "source": [
    "probability = 1 - stats.poisson.cdf(15, 11.2)\n",
    "print(\"Probability it is not a signal like data : \", probability*100, \"%\")\n"
   ]
  },
  {
   "cell_type": "markdown",
   "metadata": {},
   "source": [
    "We find its sigma here"
   ]
  },
  {
   "cell_type": "code",
   "execution_count": 97,
   "metadata": {},
   "outputs": [
    {
     "name": "stdout",
     "output_type": "stream",
     "text": [
      "Sigma:  1.324889461906836\n"
     ]
    }
   ],
   "source": [
    "print(\"Sigma: \", stats.norm.ppf(1 - probability))"
   ]
  },
  {
   "cell_type": "markdown",
   "metadata": {},
   "source": [
    "The parameters can be number like 9.2 because discrete is talking relative to continous. It does not mean that we need to have integers of our data. "
   ]
  }
 ],
 "metadata": {
  "kernelspec": {
   "display_name": "Python 3",
   "language": "python",
   "name": "python3"
  },
  "language_info": {
   "codemirror_mode": {
    "name": "ipython",
    "version": 3
   },
   "file_extension": ".py",
   "mimetype": "text/x-python",
   "name": "python",
   "nbconvert_exporter": "python",
   "pygments_lexer": "ipython3",
   "version": "3.8.3"
  }
 },
 "nbformat": 4,
 "nbformat_minor": 4
}
